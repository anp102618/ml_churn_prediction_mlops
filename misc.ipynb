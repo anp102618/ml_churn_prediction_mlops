{
 "cells": [
  {
   "cell_type": "code",
   "execution_count": 3,
   "id": "742f6097",
   "metadata": {},
   "outputs": [],
   "source": [
    "import os\n",
    "import sys\n",
    "import joblib\n",
    "import numpy as np\n",
    "import pandas as pd\n",
    "from pathlib import Path\n",
    "from typing import Optional, List, Dict, Any\n",
    "from sklearn.base import BaseEstimator\n",
    "from sklearn.metrics import accuracy_score, precision_score, recall_score, f1_score, roc_auc_score\n",
    "from sklearn.model_selection import StratifiedKFold\n",
    "from skopt import BayesSearchCV\n",
    "from skopt.space import Real, Integer, Categorical\n",
    "from Model_Utils.feature_sampling import SamplingFactory\n",
    "from Model_Utils.feature_selection_extraction import FeatureFactory\n",
    "from Common_Utils import setup_logger, track_performance, CustomException, load_yaml"
   ]
  },
  {
   "cell_type": "code",
   "execution_count": 6,
   "id": "99bf67e8",
   "metadata": {},
   "outputs": [],
   "source": [
    "X_train = pd.read_csv(\"Data/raw_data/preprocessed_data/X_train.csv\")\n",
    "X_val = pd.read_csv(\"Data/raw_data/preprocessed_data/X_val.csv\")\n",
    "X_test = pd.read_csv(\"Data/raw_data/preprocessed_data/X_test.csv\")\n",
    "y_train = pd.read_csv(\"Data/raw_data/preprocessed_data/y_train.csv\")\n",
    "y_val = pd.read_csv(\"Data/raw_data/preprocessed_data/y_val.csv\")\n",
    "y_test = pd.read_csv(\"Data/raw_data/preprocessed_data/y_test.csv\")\n",
    "\n",
    "encoder_scaler = joblib.load(\"Tuned_Model/encoder_scaler.joblib\")\n",
    "X_train_encoded = encoder_scaler.transform(X_train)\n",
    "X_val_encoded   = encoder_scaler.transform(X_val)\n",
    "X_test_encoded  = encoder_scaler.transform(X_test)\n",
    "\n",
    "# Get feature names\n",
    "feature_names = encoder_scaler.get_feature_names_out()\n",
    "\n",
    "# Convert to DataFrames with same index\n",
    "X_train_encoded = pd.DataFrame(X_train_encoded, columns=feature_names, index=X_train.index)\n",
    "X_val_encoded   = pd.DataFrame(X_val_encoded,   columns=feature_names, index=X_val.index)\n",
    "X_test_encoded  = pd.DataFrame(X_test_encoded,  columns=feature_names, index=X_test.index)\n",
    "\n",
    "sampler = SamplingFactory.get_sampler(\"smote\")\n",
    "X_train_sampled, y_train_sampled = sampler.fit_resample(X_train_encoded, y_train)\n",
    "\n",
    "selector = FeatureFactory.get_processor(\"selection\", \"selectkbest\", k=20)\n",
    "X_train_selected = selector.fit_transform(X_train_sampled, y_train_sampled.values.ravel())\n",
    "selected_columns = X_train_sampled.columns[selector.get_support()].tolist()\n",
    "X_val_selected = selector.transform(X_val_encoded)\n",
    "X_test_selected = selector.transform(X_test_encoded)\n",
    "X_train_selected = pd.DataFrame(X_train_selected, columns=selected_columns, index=X_train_sampled.index)\n",
    "X_val_selected = pd.DataFrame(X_val_selected, columns=selected_columns, index=X_val_encoded.index)\n",
    "X_test_selected = pd.DataFrame(X_test_selected, columns=selected_columns, index=X_test_encoded.index)\n",
    "\n",
    "extractor = FeatureFactory.get_processor(\"extraction\", \"kernelpca\", n_components=15)\n",
    "X_train_extracted = extractor.fit_transform(X_train_selected)\n",
    "X_val_extracted  = extractor.transform(X_val_selected)\n",
    "X_test_extracted = extractor.transform(X_test_selected)"
   ]
  },
  {
   "cell_type": "code",
   "execution_count": null,
   "id": "c6c14c1b",
   "metadata": {},
   "outputs": [],
   "source": []
  }
 ],
 "metadata": {
  "kernelspec": {
   "display_name": "mlp-env",
   "language": "python",
   "name": "python3"
  },
  "language_info": {
   "codemirror_mode": {
    "name": "ipython",
    "version": 3
   },
   "file_extension": ".py",
   "mimetype": "text/x-python",
   "name": "python",
   "nbconvert_exporter": "python",
   "pygments_lexer": "ipython3",
   "version": "3.10.18"
  }
 },
 "nbformat": 4,
 "nbformat_minor": 5
}
